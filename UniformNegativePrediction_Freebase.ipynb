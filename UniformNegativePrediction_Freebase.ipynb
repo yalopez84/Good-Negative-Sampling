{
  "nbformat": 4,
  "nbformat_minor": 0,
  "metadata": {
    "colab": {
      "provenance": [],
      "authorship_tag": "ABX9TyNd2SCgsK1lUtZ+bjt7rcJY",
      "include_colab_link": true
    },
    "kernelspec": {
      "name": "python3",
      "display_name": "Python 3"
    },
    "language_info": {
      "name": "python"
    },
    "accelerator": "GPU",
    "gpuClass": "standard"
  },
  "cells": [
    {
      "cell_type": "markdown",
      "metadata": {
        "id": "view-in-github",
        "colab_type": "text"
      },
      "source": [
        "<a href=\"https://colab.research.google.com/github/yalopez84/Goog-Negative-Sampling/blob/master/UniformNegativePrediction_Freebase.ipynb\" target=\"_parent\"><img src=\"https://colab.research.google.com/assets/colab-badge.svg\" alt=\"Open In Colab\"/></a>"
      ]
    },
    {
      "cell_type": "code",
      "execution_count": null,
      "metadata": {
        "colab": {
          "base_uri": "https://localhost:8080/"
        },
        "id": "9-XfVJRyhGiT",
        "outputId": "10b1561b-e909-4dbc-88d2-e217685a7571"
      },
      "outputs": [
        {
          "output_type": "stream",
          "name": "stdout",
          "text": [
            "Looking in indexes: https://pypi.org/simple, https://us-python.pkg.dev/colab-wheels/public/simple/\n",
            "Collecting pytorch-pretrained-bert\n",
            "  Downloading pytorch_pretrained_bert-0.6.2-py3-none-any.whl (123 kB)\n",
            "\u001b[2K     \u001b[90m━━━━━━━━━━━━━━━━━━━━━━━━━━━━━━━━━━━━━━━\u001b[0m \u001b[32m123.8/123.8 KB\u001b[0m \u001b[31m2.9 MB/s\u001b[0m eta \u001b[36m0:00:00\u001b[0m\n",
            "\u001b[?25hRequirement already satisfied: numpy in /usr/local/lib/python3.9/dist-packages (from pytorch-pretrained-bert) (1.22.4)\n",
            "Requirement already satisfied: torch>=0.4.1 in /usr/local/lib/python3.9/dist-packages (from pytorch-pretrained-bert) (1.13.1+cu116)\n",
            "Requirement already satisfied: regex in /usr/local/lib/python3.9/dist-packages (from pytorch-pretrained-bert) (2022.10.31)\n",
            "Requirement already satisfied: tqdm in /usr/local/lib/python3.9/dist-packages (from pytorch-pretrained-bert) (4.65.0)\n",
            "Requirement already satisfied: requests in /usr/local/lib/python3.9/dist-packages (from pytorch-pretrained-bert) (2.27.1)\n",
            "Collecting boto3\n",
            "  Downloading boto3-1.26.94-py3-none-any.whl (135 kB)\n",
            "\u001b[2K     \u001b[90m━━━━━━━━━━━━━━━━━━━━━━━━━━━━━━━━━━━━━━━\u001b[0m \u001b[32m135.1/135.1 KB\u001b[0m \u001b[31m3.4 MB/s\u001b[0m eta \u001b[36m0:00:00\u001b[0m\n",
            "\u001b[?25hRequirement already satisfied: typing-extensions in /usr/local/lib/python3.9/dist-packages (from torch>=0.4.1->pytorch-pretrained-bert) (4.5.0)\n",
            "Collecting jmespath<2.0.0,>=0.7.1\n",
            "  Downloading jmespath-1.0.1-py3-none-any.whl (20 kB)\n",
            "Collecting botocore<1.30.0,>=1.29.94\n",
            "  Downloading botocore-1.29.94-py3-none-any.whl (10.5 MB)\n",
            "\u001b[2K     \u001b[90m━━━━━━━━━━━━━━━━━━━━━━━━━━━━━━━━━━━━━━━━\u001b[0m \u001b[32m10.5/10.5 MB\u001b[0m \u001b[31m69.4 MB/s\u001b[0m eta \u001b[36m0:00:00\u001b[0m\n",
            "\u001b[?25hCollecting s3transfer<0.7.0,>=0.6.0\n",
            "  Downloading s3transfer-0.6.0-py3-none-any.whl (79 kB)\n",
            "\u001b[2K     \u001b[90m━━━━━━━━━━━━━━━━━━━━━━━━━━━━━━━━━━━━━━━━\u001b[0m \u001b[32m79.6/79.6 KB\u001b[0m \u001b[31m3.1 MB/s\u001b[0m eta \u001b[36m0:00:00\u001b[0m\n",
            "\u001b[?25hRequirement already satisfied: charset-normalizer~=2.0.0 in /usr/local/lib/python3.9/dist-packages (from requests->pytorch-pretrained-bert) (2.0.12)\n",
            "Requirement already satisfied: idna<4,>=2.5 in /usr/local/lib/python3.9/dist-packages (from requests->pytorch-pretrained-bert) (3.4)\n",
            "Requirement already satisfied: urllib3<1.27,>=1.21.1 in /usr/local/lib/python3.9/dist-packages (from requests->pytorch-pretrained-bert) (1.26.15)\n",
            "Requirement already satisfied: certifi>=2017.4.17 in /usr/local/lib/python3.9/dist-packages (from requests->pytorch-pretrained-bert) (2022.12.7)\n",
            "Requirement already satisfied: python-dateutil<3.0.0,>=2.1 in /usr/local/lib/python3.9/dist-packages (from botocore<1.30.0,>=1.29.94->boto3->pytorch-pretrained-bert) (2.8.2)\n",
            "Requirement already satisfied: six>=1.5 in /usr/local/lib/python3.9/dist-packages (from python-dateutil<3.0.0,>=2.1->botocore<1.30.0,>=1.29.94->boto3->pytorch-pretrained-bert) (1.15.0)\n",
            "Installing collected packages: jmespath, botocore, s3transfer, boto3, pytorch-pretrained-bert\n",
            "Successfully installed boto3-1.26.94 botocore-1.29.94 jmespath-1.0.1 pytorch-pretrained-bert-0.6.2 s3transfer-0.6.0\n"
          ]
        }
      ],
      "source": [
        "!pip install pytorch-pretrained-bert"
      ]
    },
    {
      "cell_type": "code",
      "source": [
        "from pytorch_pretrained_bert.tokenization import BertTokenizer\n",
        "from pytorch_pretrained_bert.file_utils import PYTORCH_PRETRAINED_BERT_CACHE, WEIGHTS_NAME, CONFIG_NAME\n",
        "from pytorch_pretrained_bert.modeling import BertForSequenceClassification, BertConfig\n",
        "from pytorch_pretrained_bert.optimization import BertAdam, WarmupLinearSchedule\n",
        "import torch\n",
        "from torch.utils.data import (DataLoader, RandomSampler, SequentialSampler,\n",
        "                              TensorDataset)\n",
        "import os\n",
        "from shutil import rmtree\n",
        "import csv\n",
        "from tqdm import tqdm, trange\n",
        "from torch.nn import CrossEntropyLoss, MSELoss\n",
        "import random\n",
        "import numpy as np"
      ],
      "metadata": {
        "id": "kJRjaFeUhuDt"
      },
      "execution_count": null,
      "outputs": []
    },
    {
      "cell_type": "code",
      "source": [
        "from google.colab import drive\n",
        "drive.mount('/content/drive')\n",
        "data_dir=\"/content/drive/MyDrive/NegativeStrategies/GoodNegativeSampling/FB13/\"\n",
        "os.chdir(data_dir)"
      ],
      "metadata": {
        "colab": {
          "base_uri": "https://localhost:8080/"
        },
        "id": "xidpK_Mrhyor",
        "outputId": "582b9749-5903-4b22-f724-84de4ff3bc0b"
      },
      "execution_count": null,
      "outputs": [
        {
          "output_type": "stream",
          "name": "stdout",
          "text": [
            "Mounted at /content/drive\n"
          ]
        }
      ]
    },
    {
      "cell_type": "code",
      "source": [
        "class InputExample(object):\n",
        "\n",
        "    def __init__(self, guid, text_a, text_b=None, text_c=None, label=None):\n",
        "        self.guid = guid\n",
        "        self.text_a = text_a\n",
        "        self.text_b = text_b\n",
        "        self.text_c = text_c\n",
        "        self.label = label"
      ],
      "metadata": {
        "id": "_jrmW9s0h1IF"
      },
      "execution_count": null,
      "outputs": []
    },
    {
      "cell_type": "code",
      "source": [
        "class InputFeatures(object):\n",
        "    \n",
        "    def __init__(self, input_ids, input_mask, segment_ids, label_id):\n",
        "        self.input_ids = input_ids\n",
        "        self.input_mask = input_mask\n",
        "        self.segment_ids = segment_ids\n",
        "        self.label_id = label_id  "
      ],
      "metadata": {
        "id": "RnS0rakvh4jl"
      },
      "execution_count": null,
      "outputs": []
    },
    {
      "cell_type": "code",
      "source": [
        "class TripleEvaluationReport(object):\n",
        "    \n",
        "    def __init__(self, id_triple, id_label, id_prediction):\n",
        "        self.id_triple = id_triple\n",
        "        self.id_label = id_label\n",
        "        self.id_prediction = id_prediction"
      ],
      "metadata": {
        "id": "UKgNBAhoh8TD"
      },
      "execution_count": null,
      "outputs": []
    },
    {
      "cell_type": "code",
      "source": [
        "class DataProcessor(object):\n",
        "  \n",
        "    def get_test_examples(self, data_dir):\n",
        "        raise NotImplementedError()\n",
        "\n",
        "    def get_labels(self, data_dir):\n",
        "        raise NotImplementedError()\n",
        "\n",
        "    @classmethod\n",
        "    def _read_tsv(cls, input_file, quotechar=None):\n",
        "        with open(input_file, \"r\", encoding=\"utf-8\") as f:\n",
        "            reader = csv.reader(f, delimiter=\"\\t\", quotechar=quotechar)\n",
        "            lines = []\n",
        "            for line in reader:\n",
        "                lines.append(line)\n",
        "            return lines "
      ],
      "metadata": {
        "id": "lDlz656kh-8U"
      },
      "execution_count": null,
      "outputs": []
    },
    {
      "cell_type": "code",
      "source": [
        "class KGProcessor(DataProcessor):\n",
        "    def __init__(self):\n",
        "        self.labels = set()\n",
        "    \n",
        "    def get_test_examples(self, data_dir):\n",
        "        return self._create_examples(\n",
        "          self._read_tsv(os.path.join(data_dir, \"test_reduced.tsv\")), \"test\", data_dir)\n",
        "\n",
        "    def get_relations(self, data_dir):\n",
        "        with open(os.path.join(data_dir, \"relations.txt\"), 'r') as f:\n",
        "            lines = f.readlines()\n",
        "            relations = []\n",
        "            for line in lines:\n",
        "                relations.append(line.strip())\n",
        "        return relations\n",
        "\n",
        "    def get_labels(self, data_dir):\n",
        "        return [\"0\", \"1\"]\n",
        "\n",
        "    def get_entities(self, data_dir):\n",
        "\n",
        "        with open(os.path.join(data_dir, \"entities.txt\"), 'r') as f:\n",
        "            lines = f.readlines()\n",
        "            entities = []\n",
        "            for line in lines:\n",
        "                entities.append(line.strip())\n",
        "        return entities\n",
        "\n",
        "    def _create_examples(self, lines, set_type, data_dir):\n",
        "        \n",
        "        ent2text = {}\n",
        "        with open(os.path.join(data_dir, \"entity2text.txt\"), 'r') as f:\n",
        "            ent_lines = f.readlines()\n",
        "            for line in tqdm(ent_lines):\n",
        "                temp = line.strip().split('\\t')\n",
        "                if len(temp) == 2:\n",
        "                    ent2text[temp[0]] = temp[1]\n",
        "\n",
        "        entities = list(ent2text.keys())\n",
        "\n",
        "        rel2text = {}\n",
        "        with open(os.path.join(data_dir, \"relation2text.txt\"), 'r') as f:\n",
        "            rel_lines = f.readlines()\n",
        "            for line in rel_lines:\n",
        "                temp = line.strip().split('\\t')\n",
        "                rel2text[temp[0]] = temp[1]      \n",
        "\n",
        "        lines_str_set = set(['\\t'.join(line) for line in lines])\n",
        "\n",
        "        examples=[]        \n",
        "        for (i, line) in enumerate(lines):\n",
        "        #Convertimos cada línea en un ejemplo con descripciones\n",
        "       \n",
        "            triple_label = line[3]\n",
        "            if triple_label == \"1\":\n",
        "                label = \"1\"\n",
        "            else:\n",
        "                label = \"0\"\n",
        "\n",
        "            guid = \"%s-%s\" % (set_type, i)\n",
        "            head_ent_text = ent2text[line[0]]\n",
        "            tail_ent_text = ent2text[line[2]]\n",
        "            relation_text = rel2text[line[1]] \n",
        "\n",
        "            text_a = head_ent_text\n",
        "            text_b = relation_text\n",
        "            text_c = tail_ent_text\n",
        "      \n",
        "            examples.append(InputExample(guid=guid, text_a=text_a, text_b=text_b, text_c = text_c, label=label))   \n",
        "\n",
        "        return examples"
      ],
      "metadata": {
        "id": "n7cjct-6iCZ9"
      },
      "execution_count": null,
      "outputs": []
    },
    {
      "cell_type": "code",
      "source": [
        "def convert_examples_to_features(examples, label_list, max_seq_length, tokenizer, print_info = True):\n",
        "    \n",
        "    label_map = {label : i for i, label in enumerate(label_list)}\n",
        "\n",
        "    features = []\n",
        "\n",
        "    for (ex_index, example) in enumerate(examples):\n",
        "        \n",
        "        tokens_a = tokenizer.tokenize(example.text_a)\n",
        "        tokens_b = None\n",
        "        tokens_c = None\n",
        "\n",
        "        if example.text_b and example.text_c:\n",
        "            tokens_b = tokenizer.tokenize(example.text_b)\n",
        "            tokens_c = tokenizer.tokenize(example.text_c)\n",
        "            _truncate_seq_triple(tokens_a, tokens_b, tokens_c, max_seq_length - 4)\n",
        "        else:\n",
        "            if len(tokens_a) > max_seq_length - 2:\n",
        "                tokens_a = tokens_a[:(max_seq_length - 2)]\n",
        "        tokens = [\"[CLS]\"] + tokens_a + [\"[SEP]\"]\n",
        "        segment_ids = [0] * len(tokens)\n",
        "\n",
        "        if tokens_b:\n",
        "            tokens += tokens_b + [\"[SEP]\"]\n",
        "            segment_ids += [1] * (len(tokens_b) + 1)\n",
        "        if tokens_c:\n",
        "            tokens += tokens_c + [\"[SEP]\"]\n",
        "            segment_ids += [0] * (len(tokens_c) + 1)        \n",
        "\n",
        "        input_ids = tokenizer.convert_tokens_to_ids(tokens)\n",
        "\n",
        "        input_mask = [1] * len(input_ids)\n",
        "\n",
        "        padding = [0] * (max_seq_length - len(input_ids))\n",
        "        input_ids += padding\n",
        "        input_mask += padding\n",
        "        segment_ids += padding\n",
        "\n",
        "        assert len(input_ids) == max_seq_length\n",
        "        assert len(input_mask) == max_seq_length\n",
        "        assert len(segment_ids) == max_seq_length\n",
        "\n",
        "        label_id = label_map[example.label]\n",
        "\n",
        "        features.append(\n",
        "                InputFeatures(input_ids=input_ids,\n",
        "                              input_mask=input_mask,\n",
        "                              segment_ids=segment_ids,\n",
        "                              label_id=label_id))\n",
        "    return features"
      ],
      "metadata": {
        "id": "3USwsCzXiHLU"
      },
      "execution_count": null,
      "outputs": []
    },
    {
      "cell_type": "code",
      "source": [
        "def _truncate_seq_triple(tokens_a, tokens_b, tokens_c, max_length):\n",
        "    while True:\n",
        "        total_length = len(tokens_a) + len(tokens_b) + len(tokens_c)\n",
        "        if total_length <= max_length:\n",
        "            break\n",
        "        if len(tokens_a) > len(tokens_b) and len(tokens_a) > len(tokens_c):\n",
        "            tokens_a.pop()\n",
        "        elif len(tokens_b) > len(tokens_a) and len(tokens_b) > len(tokens_c):\n",
        "            tokens_b.pop()\n",
        "        elif len(tokens_c) > len(tokens_a) and len(tokens_c) > len(tokens_b):\n",
        "            tokens_c.pop()\n",
        "        else:\n",
        "            tokens_c.pop()"
      ],
      "metadata": {
        "id": "iugviSR2iK2G"
      },
      "execution_count": null,
      "outputs": []
    },
    {
      "cell_type": "code",
      "source": [
        "def simple_accuracy(preds, labels):\n",
        "    return (preds == labels).mean()"
      ],
      "metadata": {
        "id": "IF7_52LniNfQ"
      },
      "execution_count": null,
      "outputs": []
    },
    {
      "cell_type": "code",
      "source": [
        "def compute_metrics(preds, labels):\n",
        "    return {\"acc\": simple_accuracy(preds, labels)}"
      ],
      "metadata": {
        "id": "aSBS3NWoiQPx"
      },
      "execution_count": null,
      "outputs": []
    },
    {
      "cell_type": "code",
      "source": [
        "def main(numExecution):\n",
        "    arg_dict ={\n",
        "        \"data_dir\": data_dir,\n",
        "        \"bert_model\": \"bert-base-cased\",\n",
        "        \"max_seq_length\": 200,\n",
        "        \"train_batch_size\": 32,\n",
        "        \"eval_batch_size\": 512,\n",
        "        \"learning_rate\": 5e-5,\n",
        "        \"num_train_epochs\": 3.0,\n",
        "        \"output_dir\": \"./output_FB13_\",               \n",
        "        \"gradient_accumulation_steps\": 1,\n",
        "        \"seed\":42,\n",
        "        \"do_lower_case\":False,\n",
        "        \"loss_scale\":0,\n",
        "        \"warmup_proportion\":0.1\n",
        "        }\n",
        "    \n",
        "    dirFolder=arg_dict[\"output_dir\"]+str(numExecution)\n",
        "    n_gpu=0\n",
        "    device = (torch.device('cuda') if torch.cuda.is_available() else torch.device('cpu'))\n",
        "    print(\"Device\",device)\n",
        "    if str(device)==\"cuda\":\n",
        "        n_gpu=1\n",
        "    arg_dict[\"seed\"] = random.randint(1, 200)\n",
        "    random.seed(arg_dict[\"seed\"])\n",
        "    np.random.seed(arg_dict[\"seed\"])\n",
        "    torch.manual_seed(arg_dict[\"seed\"])\n",
        "\n",
        "    processor = KGProcessor()\n",
        "    label_list = processor.get_labels(arg_dict[\"data_dir\"])\n",
        "    num_labels=len(label_list)\n",
        "  \n",
        "    model = BertForSequenceClassification.from_pretrained(dirFolder, num_labels=num_labels)\n",
        "    tokenizer = BertTokenizer.from_pretrained(dirFolder, do_lower_case=arg_dict[\"do_lower_case\"])\n",
        "    model.to(device)\n",
        "\n",
        "    test_examples = processor.get_test_examples(arg_dict[\"data_dir\"])\n",
        "    test_features = convert_examples_to_features(\n",
        "            test_examples, label_list, arg_dict[\"max_seq_length\"], tokenizer)\n",
        "    all_input_ids = torch.tensor([f.input_ids for f in test_features], dtype=torch.long)\n",
        "    all_input_mask = torch.tensor([f.input_mask for f in test_features], dtype=torch.long)\n",
        "    all_segment_ids = torch.tensor([f.segment_ids for f in test_features], dtype=torch.long)\n",
        "    all_label_ids = torch.tensor([f.label_id for f in test_features], dtype=torch.long)\n",
        "    test_data = TensorDataset(all_input_ids, all_input_mask, all_segment_ids, all_label_ids)\n",
        "    test_sampler = SequentialSampler(test_data)\n",
        "    test_dataloader = DataLoader(test_data, sampler=test_sampler, batch_size=arg_dict[\"eval_batch_size\"])\n",
        "    \n",
        "    eval_loss = 0\n",
        "    nb_eval_steps = 0\n",
        "    preds = []\n",
        "    model.eval()\n",
        "    for input_ids, input_mask, segment_ids, label_ids in tqdm(test_dataloader, desc=\"Testing\"):\n",
        "        input_ids = input_ids.to(device)\n",
        "        input_mask = input_mask.to(device)\n",
        "        segment_ids = segment_ids.to(device)\n",
        "        label_ids = label_ids.to(device)\n",
        "        with torch.no_grad():\n",
        "            logits = model(input_ids, segment_ids, input_mask, labels=None)\n",
        "           \n",
        "        loss_fct = CrossEntropyLoss()\n",
        "        tmp_eval_loss = loss_fct(logits, label_ids)\n",
        "        eval_loss += tmp_eval_loss.mean().item()\n",
        "        nb_eval_steps += 1\n",
        "        if len(preds) == 0:\n",
        "            preds.append(logits.detach().cpu().numpy())        \n",
        "        else:\n",
        "            preds[0] = np.append(preds[0], logits.detach().cpu().numpy(), axis=0)\n",
        "    \n",
        "    eval_loss = eval_loss / nb_eval_steps\n",
        "    preds = preds[0]\n",
        "    preds_ids = np.argmax(preds, axis=1)  #indice del mayor valor \n",
        "    result = compute_metrics(preds_ids,all_label_ids.numpy())\n",
        "    triples_Evaluation_Report = []\n",
        "    for cont, label in enumerate(all_label_ids.numpy()):\n",
        "        triples_Evaluation_Report.append(TripleEvaluationReport(\n",
        "                id_triple = cont,\n",
        "                id_label = label,\n",
        "                id_prediction = preds_ids[cont]\n",
        "            ))\n",
        "\n",
        "    result['eval_loss'] = eval_loss        \n",
        "    output_test_file = os.path.join(arg_dict[\"data_dir\"], \"test_results_uniform_negative_sampling_freebase\"+str(numExecution)+\".txt\")\n",
        "    with open(output_test_file, \"w\") as writer:           \n",
        "        for key in sorted(result.keys()):\n",
        "            writer.write(\"  %s = %s\" % (key, str(result[key])))  "
      ],
      "metadata": {
        "id": "1nxboUVGiT_C"
      },
      "execution_count": null,
      "outputs": []
    },
    {
      "cell_type": "code",
      "source": [
        "if __name__ == \"__main__\":\n",
        "    for i in range(1, 2):\n",
        "        main(i)\n",
        "        print (\"Modelo: \",i)\n",
        "    print('fin')"
      ],
      "metadata": {
        "colab": {
          "base_uri": "https://localhost:8080/"
        },
        "id": "6FbqO1m6iWlW",
        "outputId": "1d041659-0c5d-49d9-a499-53727531eca2"
      },
      "execution_count": null,
      "outputs": [
        {
          "output_type": "stream",
          "name": "stdout",
          "text": [
            "Device cuda\n"
          ]
        },
        {
          "output_type": "stream",
          "name": "stderr",
          "text": [
            "100%|██████████| 75042/75042 [00:00<00:00, 400279.99it/s]\n",
            "Testing: 100%|██████████| 5/5 [00:29<00:00,  5.88s/it]"
          ]
        },
        {
          "output_type": "stream",
          "name": "stdout",
          "text": [
            "Modelo:  1\n",
            "fin\n"
          ]
        },
        {
          "output_type": "stream",
          "name": "stderr",
          "text": [
            "\n"
          ]
        }
      ]
    }
  ]
}