{
  "cells": [
    {
      "cell_type": "markdown",
      "metadata": {
        "id": "view-in-github",
        "colab_type": "text"
      },
      "source": [
        "<a href=\"https://colab.research.google.com/github/yalopez84/Goog-Negative-Sampling/blob/master/Basic_Preprocessing_Yago.ipynb\" target=\"_parent\"><img src=\"https://colab.research.google.com/assets/colab-badge.svg\" alt=\"Open In Colab\"/></a>"
      ]
    },
    {
      "cell_type": "markdown",
      "metadata": {
        "id": "mo976fSWCZIy"
      },
      "source": [
        "**Basic Form Preprocessing**\n",
        "\n",
        "Basic Form Preprocessing means to transform any KG dataset to the Basic Form for kg completion algorithms. Basic Form was drawn from KG-BERT and extended with the relation_domain_range.tsv file. This file contains the relation domain and range used by the Good Negative Sampling generation strategy. Basic Form files are:\n",
        "\n",
        "1.   train.tsv\n",
        "2.   dev.tsv\n",
        "3.   test.tsv\n",
        "4.   entities.tsv\n",
        "5.   relations.tsv\n",
        "6.   entity2text.tsv\n",
        "7.   relation2text.tsv\n",
        "8.   relation_dom_ran.tsv\n"
      ]
    },
    {
      "cell_type": "code",
      "execution_count": null,
      "metadata": {
        "id": "LalWgc8EI4OJ"
      },
      "outputs": [],
      "source": [
        "import os\n",
        "from tqdm import tqdm, trange\n",
        "import csv"
      ]
    },
    {
      "cell_type": "code",
      "execution_count": null,
      "metadata": {
        "id": "Z3Gw7Hoe-Wvg",
        "outputId": "eb6a91e8-8690-4bf3-ace8-3a4ac0bfa42a",
        "colab": {
          "base_uri": "https://localhost:8080/"
        }
      },
      "outputs": [
        {
          "output_type": "stream",
          "name": "stdout",
          "text": [
            "Drive already mounted at /content/drive; to attempt to forcibly remount, call drive.mount(\"/content/drive\", force_remount=True).\n"
          ]
        }
      ],
      "source": [
        "from google.colab import drive\n",
        "drive.mount('/content/drive')"
      ]
    },
    {
      "cell_type": "code",
      "execution_count": null,
      "metadata": {
        "id": "W5Vf_9OECj1W"
      },
      "outputs": [],
      "source": [
        "data_dir=\"/content/drive/MyDrive/NegativeStrategies/GoodNegativeSampling/Yago/\"\n",
        "os.chdir(data_dir)"
      ]
    },
    {
      "cell_type": "code",
      "execution_count": null,
      "metadata": {
        "id": "NGiRblaxI0yf"
      },
      "outputs": [],
      "source": [
        "class DataProcessor(object):\n",
        "    def get_train_examples(self, data_dir):\n",
        "        raise NotImplementedError()\n",
        "    @classmethod\n",
        "    def _read_tsv(cls, input_file, quotechar=None):\n",
        "        with open(input_file, \"r\", encoding=\"utf-8\") as f:\n",
        "            reader = csv.reader(f, delimiter=\"\\t\", quotechar=quotechar)\n",
        "            lines = []            \n",
        "            for line in reader:\n",
        "                lines.append(line)  \n",
        "            return lines  "
      ]
    },
    {
      "cell_type": "code",
      "execution_count": null,
      "metadata": {
        "id": "GDOChOaLJ4I_"
      },
      "outputs": [],
      "source": [
        "class KGProcessor(DataProcessor):\n",
        "    def __init__(self):\n",
        "        self.labels = set()        \n",
        "    "
      ]
    },
    {
      "cell_type": "markdown",
      "metadata": {
        "id": "5jp5bdNWHpaJ"
      },
      "source": [
        "**createFBReduced method** is for creating reduced files of train.tsv and test.tsv"
      ]
    },
    {
      "cell_type": "code",
      "execution_count": null,
      "metadata": {
        "colab": {
          "base_uri": "https://localhost:8080/",
          "height": 530
        },
        "id": "DfyY-l4kB5e3",
        "outputId": "849f8467-4d7f-4636-b9f3-35399c22bea2"
      },
      "outputs": [
        {
          "output_type": "stream",
          "name": "stderr",
          "text": [
            "100%|██████████| 10/10 [00:00<00:00, 12909.52it/s]"
          ]
        },
        {
          "output_type": "stream",
          "name": "stdout",
          "text": [
            "train_reduced 7 \n",
            "\n",
            "train_reduced [['Boo_Young-tae', 'playsFor', 'Yangju_Citizen_FC'], ['Josh_Smith_(soccer)', 'playsFor', 'Trinity_University_(Texas)'], ['George_Mallia', 'playsFor', 'Malta_national_football_team'], ['Toni_Kuivasto', 'isAffiliatedTo', 'Helsingin_Jalkapalloklubi'], ['Edwin_Holliday', 'isAffiliatedTo', 'Hereford_United_F.C.'], ['Héctor_Cúper', 'isAffiliatedTo', 'Aris_Thessaloniki_F.C.'], ['Albrecht_Dürer', 'diedIn', 'Nuremberg']] \n",
            "\n",
            "test_reduced 5 \n",
            "\n",
            "test_reduced [['Stan_Collymore', 'playsFor', 'England_national_football_team'], ['Mantorras', 'playsFor', 'F.C._Alverca'], ['Pablo_Bonells', 'isAffiliatedTo', 'Club_Celaya'], ['Victorio_Cocco', 'isAffiliatedTo', 'Argentina_national_football_team'], ['Telmo_Zarra', 'diedIn', 'Bilbao']] \n",
            "\n"
          ]
        },
        {
          "output_type": "stream",
          "name": "stderr",
          "text": [
            "\n"
          ]
        },
        {
          "output_type": "error",
          "ename": "IndexError",
          "evalue": "ignored",
          "traceback": [
            "\u001b[0;31m---------------------------------------------------------------------------\u001b[0m",
            "\u001b[0;31mIndexError\u001b[0m                                Traceback (most recent call last)",
            "\u001b[0;32m<ipython-input-12-031e0ed9b0b9>\u001b[0m in \u001b[0;36m<cell line: 50>\u001b[0;34m()\u001b[0m\n\u001b[1;32m     48\u001b[0m             \u001b[0mwriter\u001b[0m\u001b[0;34m.\u001b[0m\u001b[0mwrite\u001b[0m\u001b[0;34m(\u001b[0m\u001b[0;34m'\\t'\u001b[0m\u001b[0;34m.\u001b[0m\u001b[0mjoin\u001b[0m\u001b[0;34m(\u001b[0m\u001b[0mtriple_\u001b[0m\u001b[0;34m)\u001b[0m\u001b[0;34m+\u001b[0m\u001b[0;34m\"\\n\"\u001b[0m\u001b[0;34m)\u001b[0m\u001b[0;34m\u001b[0m\u001b[0;34m\u001b[0m\u001b[0m\n\u001b[1;32m     49\u001b[0m \u001b[0;34m\u001b[0m\u001b[0m\n\u001b[0;32m---> 50\u001b[0;31m \u001b[0mcreateYagoReduced\u001b[0m\u001b[0;34m(\u001b[0m\u001b[0mtest_start\u001b[0m\u001b[0;34m=\u001b[0m\u001b[0;36m0\u001b[0m\u001b[0;34m,\u001b[0m\u001b[0mtest_end\u001b[0m\u001b[0;34m=\u001b[0m\u001b[0;36m10\u001b[0m\u001b[0;34m,\u001b[0m\u001b[0mtest_step\u001b[0m\u001b[0;34m=\u001b[0m\u001b[0;36m1\u001b[0m\u001b[0;34m,\u001b[0m\u001b[0mtrain_start\u001b[0m\u001b[0;34m=\u001b[0m\u001b[0;36m0\u001b[0m\u001b[0;34m,\u001b[0m\u001b[0mtrain_end\u001b[0m\u001b[0;34m=\u001b[0m\u001b[0;36m10\u001b[0m\u001b[0;34m,\u001b[0m\u001b[0mtrain_step\u001b[0m\u001b[0;34m=\u001b[0m\u001b[0;36m1\u001b[0m\u001b[0;34m)\u001b[0m\u001b[0;34m\u001b[0m\u001b[0;34m\u001b[0m\u001b[0m\n\u001b[0m",
            "\u001b[0;32m<ipython-input-12-031e0ed9b0b9>\u001b[0m in \u001b[0;36mcreateYagoReduced\u001b[0;34m(test_start, test_end, test_step, train_start, train_end, train_step)\u001b[0m\n\u001b[1;32m     35\u001b[0m     \u001b[0mprint\u001b[0m\u001b[0;34m(\u001b[0m\u001b[0;34m\"test_reduced\"\u001b[0m\u001b[0;34m,\u001b[0m \u001b[0mtriples_test_reduced\u001b[0m\u001b[0;34m,\u001b[0m\u001b[0;34m\"\\n\"\u001b[0m\u001b[0;34m)\u001b[0m\u001b[0;34m\u001b[0m\u001b[0;34m\u001b[0m\u001b[0m\n\u001b[1;32m     36\u001b[0m \u001b[0;34m\u001b[0m\u001b[0m\n\u001b[0;32m---> 37\u001b[0;31m     \u001b[0mpositivos\u001b[0m\u001b[0;34m=\u001b[0m\u001b[0;34m[\u001b[0m\u001b[0mtriple\u001b[0m \u001b[0;32mfor\u001b[0m \u001b[0mtriple\u001b[0m \u001b[0;32min\u001b[0m \u001b[0mtriples_test_reduced\u001b[0m \u001b[0;32mif\u001b[0m \u001b[0mtriple\u001b[0m\u001b[0;34m[\u001b[0m\u001b[0;36m3\u001b[0m\u001b[0;34m]\u001b[0m\u001b[0;34m==\u001b[0m\u001b[0;34m\"1\"\u001b[0m\u001b[0;34m]\u001b[0m\u001b[0;34m\u001b[0m\u001b[0;34m\u001b[0m\u001b[0m\n\u001b[0m\u001b[1;32m     38\u001b[0m     \u001b[0mnegativos\u001b[0m\u001b[0;34m=\u001b[0m\u001b[0;34m[\u001b[0m\u001b[0mtriple\u001b[0m \u001b[0;32mfor\u001b[0m \u001b[0mtriple\u001b[0m \u001b[0;32min\u001b[0m \u001b[0mtriples_test_reduced\u001b[0m \u001b[0;32mif\u001b[0m \u001b[0mtriple\u001b[0m\u001b[0;34m[\u001b[0m\u001b[0;36m3\u001b[0m\u001b[0;34m]\u001b[0m\u001b[0;34m==\u001b[0m\u001b[0;34m\"-1\"\u001b[0m\u001b[0;34m]\u001b[0m\u001b[0;34m\u001b[0m\u001b[0;34m\u001b[0m\u001b[0m\n\u001b[1;32m     39\u001b[0m     \u001b[0mprint\u001b[0m\u001b[0;34m(\u001b[0m\u001b[0;34m\"positivos\"\u001b[0m\u001b[0;34m,\u001b[0m \u001b[0mlen\u001b[0m\u001b[0;34m(\u001b[0m\u001b[0mpositivos\u001b[0m\u001b[0;34m)\u001b[0m\u001b[0;34m,\u001b[0m\u001b[0;34m\"\\n\"\u001b[0m\u001b[0;34m)\u001b[0m\u001b[0;34m\u001b[0m\u001b[0;34m\u001b[0m\u001b[0m\n",
            "\u001b[0;32m<ipython-input-12-031e0ed9b0b9>\u001b[0m in \u001b[0;36m<listcomp>\u001b[0;34m(.0)\u001b[0m\n\u001b[1;32m     35\u001b[0m     \u001b[0mprint\u001b[0m\u001b[0;34m(\u001b[0m\u001b[0;34m\"test_reduced\"\u001b[0m\u001b[0;34m,\u001b[0m \u001b[0mtriples_test_reduced\u001b[0m\u001b[0;34m,\u001b[0m\u001b[0;34m\"\\n\"\u001b[0m\u001b[0;34m)\u001b[0m\u001b[0;34m\u001b[0m\u001b[0;34m\u001b[0m\u001b[0m\n\u001b[1;32m     36\u001b[0m \u001b[0;34m\u001b[0m\u001b[0m\n\u001b[0;32m---> 37\u001b[0;31m     \u001b[0mpositivos\u001b[0m\u001b[0;34m=\u001b[0m\u001b[0;34m[\u001b[0m\u001b[0mtriple\u001b[0m \u001b[0;32mfor\u001b[0m \u001b[0mtriple\u001b[0m \u001b[0;32min\u001b[0m \u001b[0mtriples_test_reduced\u001b[0m \u001b[0;32mif\u001b[0m \u001b[0mtriple\u001b[0m\u001b[0;34m[\u001b[0m\u001b[0;36m3\u001b[0m\u001b[0;34m]\u001b[0m\u001b[0;34m==\u001b[0m\u001b[0;34m\"1\"\u001b[0m\u001b[0;34m]\u001b[0m\u001b[0;34m\u001b[0m\u001b[0;34m\u001b[0m\u001b[0m\n\u001b[0m\u001b[1;32m     38\u001b[0m     \u001b[0mnegativos\u001b[0m\u001b[0;34m=\u001b[0m\u001b[0;34m[\u001b[0m\u001b[0mtriple\u001b[0m \u001b[0;32mfor\u001b[0m \u001b[0mtriple\u001b[0m \u001b[0;32min\u001b[0m \u001b[0mtriples_test_reduced\u001b[0m \u001b[0;32mif\u001b[0m \u001b[0mtriple\u001b[0m\u001b[0;34m[\u001b[0m\u001b[0;36m3\u001b[0m\u001b[0;34m]\u001b[0m\u001b[0;34m==\u001b[0m\u001b[0;34m\"-1\"\u001b[0m\u001b[0;34m]\u001b[0m\u001b[0;34m\u001b[0m\u001b[0;34m\u001b[0m\u001b[0m\n\u001b[1;32m     39\u001b[0m     \u001b[0mprint\u001b[0m\u001b[0;34m(\u001b[0m\u001b[0;34m\"positivos\"\u001b[0m\u001b[0;34m,\u001b[0m \u001b[0mlen\u001b[0m\u001b[0;34m(\u001b[0m\u001b[0mpositivos\u001b[0m\u001b[0;34m)\u001b[0m\u001b[0;34m,\u001b[0m\u001b[0;34m\"\\n\"\u001b[0m\u001b[0;34m)\u001b[0m\u001b[0;34m\u001b[0m\u001b[0;34m\u001b[0m\u001b[0m\n",
            "\u001b[0;31mIndexError\u001b[0m: list index out of range"
          ]
        }
      ],
      "source": [
        "def createYagoReduced(test_start,test_end,test_step,train_start,train_end,train_step):\n",
        "    #To reduce Yago dataset \n",
        "    #train.tsv has 1079040 triples, train_reduced.tsv has a subset of  triples\n",
        "    #test.tsv has 5000, test_reduced.tsv has a sub set of  triples  \n",
        "\n",
        "    processor = KGProcessor()\n",
        "    test_lines=processor._read_tsv(os.path.join(data_dir, \"test.tsv\"))\n",
        "    train_lines=processor._read_tsv(os.path.join(data_dir, \"train.tsv\")) \n",
        "\n",
        "    triples_train_reduced=processor._read_tsv(os.path.join(data_dir, \"train_reduced.tsv\"))\n",
        "    triples_test_reduced=processor._read_tsv(os.path.join(data_dir, \"test_reduced.tsv\"))\n",
        "    flag=False\n",
        "\n",
        "    for test_line in tqdm(test_lines[test_start:test_end:test_step]):\n",
        "        tests_str_set = set([' '.join(line) for line in triples_test_reduced])\n",
        "        flag=False\n",
        "        count=0\n",
        "        for train_line in train_lines[train_start:train_end:train_step]:\n",
        "            trains_str_set = set([' '.join(line) for line in triples_train_reduced])\n",
        "            if test_line[0] in train_line or test_line[1] in train_line or test_line[2] in train_line:\n",
        "                if ' '.join(train_line) not in trains_str_set:\n",
        "                    triples_train_reduced.append(train_line) \n",
        "                    flag=True\n",
        "                    count=count+1\n",
        "                    if count>=2:\n",
        "                        break\n",
        "        if flag==True:\n",
        "            if ' '.join(test_line) not in tests_str_set:\n",
        "                triples_test_reduced.append(test_line) \n",
        "\n",
        "    print(\"train_reduced\", len(triples_train_reduced),\"\\n\")\n",
        "    print(\"train_reduced\", triples_train_reduced,\"\\n\")\n",
        "\n",
        "    print(\"test_reduced\", len(triples_test_reduced),\"\\n\")\n",
        "    print(\"test_reduced\", triples_test_reduced,\"\\n\")\n",
        "\n",
        "    positivos=[triple for triple in triples_test_reduced if triple[3]==\"1\"]\n",
        "    negativos=[triple for triple in triples_test_reduced if triple[3]==\"-1\"]\n",
        "    print(\"positivos\", len(positivos),\"\\n\")\n",
        "    print(\"negativos\", len(negativos),\"\\n\")\n",
        "\n",
        "    with open(os.path.join(data_dir, \"train_reduced.tsv\"), \"w\") as writer:\n",
        "        for triple_ in triples_train_reduced:\n",
        "            writer.write('\\t'.join(triple_)+\"\\n\")\n",
        "\n",
        "    with open(os.path.join(data_dir, \"test_reduced.tsv\"), \"w\") as writer:\n",
        "        for triple_ in triples_test_reduced:\n",
        "            writer.write('\\t'.join(triple_)+\"\\n\")\n",
        "\n",
        "createYagoReduced(test_start=0,test_end=10,test_step=1,train_start=0,train_end=10,train_step=1)"
      ]
    }
  ],
  "metadata": {
    "accelerator": "GPU",
    "colab": {
      "provenance": [],
      "authorship_tag": "ABX9TyO4BbQtuvlxc+nX/lWK0bQ+",
      "include_colab_link": true
    },
    "gpuClass": "standard",
    "kernelspec": {
      "display_name": "Python 3",
      "name": "python3"
    },
    "language_info": {
      "name": "python"
    }
  },
  "nbformat": 4,
  "nbformat_minor": 0
}