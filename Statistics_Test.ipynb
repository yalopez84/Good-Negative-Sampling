{
  "nbformat": 4,
  "nbformat_minor": 0,
  "metadata": {
    "colab": {
      "provenance": [],
      "authorship_tag": "ABX9TyOiLEZgsammCs0m+aI1UhIM",
      "include_colab_link": true
    },
    "kernelspec": {
      "name": "python3",
      "display_name": "Python 3"
    },
    "language_info": {
      "name": "python"
    }
  },
  "cells": [
    {
      "cell_type": "markdown",
      "metadata": {
        "id": "view-in-github",
        "colab_type": "text"
      },
      "source": [
        "<a href=\"https://colab.research.google.com/github/yalopez84/Goog-Negative-Sampling/blob/master/Statistics_Test.ipynb\" target=\"_parent\"><img src=\"https://colab.research.google.com/assets/colab-badge.svg\" alt=\"Open In Colab\"/></a>"
      ]
    },
    {
      "cell_type": "markdown",
      "source": [
        "Coger los resultados de los entrenamientos por estrategia de negativos y calcular la perdida en cada epoca del entrenamiento"
      ],
      "metadata": {
        "id": "ObUEYQOxX1mN"
      }
    },
    {
      "cell_type": "code",
      "source": [
        "import os\n",
        "import pandas as pd\n",
        "import numpy as np"
      ],
      "metadata": {
        "id": "2PvcGyIybyhz"
      },
      "execution_count": 22,
      "outputs": []
    },
    {
      "cell_type": "code",
      "execution_count": 23,
      "metadata": {
        "colab": {
          "base_uri": "https://localhost:8080/"
        },
        "id": "x8ISPGegPjwz",
        "outputId": "d804bda4-a5f8-416b-f376-63279f64f711"
      },
      "outputs": [
        {
          "output_type": "stream",
          "name": "stdout",
          "text": [
            "Drive already mounted at /content/drive; to attempt to forcibly remount, call drive.mount(\"/content/drive\", force_remount=True).\n"
          ]
        }
      ],
      "source": [
        "from google.colab import drive\n",
        "drive.mount('/content/drive')"
      ]
    },
    {
      "cell_type": "code",
      "source": [
        "data_dir=\"/content/drive/MyDrive/NegativeStrategies/GoodNegativeSampling/FB13/Statistics/\"\n",
        "os.chdir(data_dir)\n",
        "wdir = os.getcwd()\n",
        "\n",
        "file_train_UNS = wdir + \"/training_results_UNS.xlsx\"\n",
        "file_train_PTNS = wdir + \"/training_results_PTNS.xlsx\"\n",
        "file_train_GNS = wdir + \"/training_results_GNS.xlsx\"\n",
        "\n",
        "#Leer la primera hoja del excel\n",
        "df_UNS = pd.read_excel(r'' + file_train_UNS, engine='openpyxl')\n",
        "df_PTNS = pd.read_excel(r'' + file_train_PTNS, engine='openpyxl')\n",
        "df_GNS = pd.read_excel(r'' + file_train_GNS, engine='openpyxl')\n",
        "\n",
        "test_data_UNS = {'Epoch 1':[],'Epoch 2':[],'Epoch 3':[]}\n",
        "test_data_PTNS = {'Epoch 1':[],'Epoch 2':[],'Epoch 3':[]}\n",
        "test_data_GNS = {'Epoch 1':[],'Epoch 2':[],'Epoch 3':[]}\n",
        "\n",
        "for i in range(df_UNS.shape[0]):\n",
        "    test_data_UNS['Epoch 1'].append(float(df_UNS.iloc[i, 0]))\n",
        "    test_data_UNS['Epoch 2'].append(float(df_UNS.iloc[i, 1]))\n",
        "    test_data_UNS['Epoch 3'].append(float(df_UNS.iloc[i, 2]))\n",
        "for i in range(df_PTNS.shape[0]):\n",
        "    test_data_PTNS['Epoch 1'].append(float(df_PTNS.iloc[i, 0]))\n",
        "    test_data_PTNS['Epoch 2'].append(float(df_PTNS.iloc[i, 1]))\n",
        "    test_data_PTNS['Epoch 3'].append(float(df_PTNS.iloc[i, 2]))\n",
        "for i in range(df_GNS.shape[0]):\n",
        "    test_data_GNS['Epoch 1'].append(float(df_GNS.iloc[i, 0]))\n",
        "    test_data_GNS['Epoch 2'].append(float(df_GNS.iloc[i, 1]))\n",
        "    test_data_GNS['Epoch 3'].append(float(df_GNS.iloc[i, 2]))\n",
        "\n",
        "print('Uniform Negative Sampling')\n",
        "basic_statictics(test_data_UNS)\n",
        "print('Pseudo Type Negative Sampling')\n",
        "basic_statictics(test_data_PTNS)\n",
        "print('Good Negative Sampling')\n",
        "basic_statictics(test_data_GNS)\n",
        "\n",
        "def basic_statictics(test_data):\n",
        "    a = np.asarray(test_data['Epoch 1'])\n",
        "    b = np.asarray(test_data['Epoch 2'])\n",
        "    c = np.asarray(test_data['Epoch 3'])\n",
        "\n",
        "    print(\"mean for Epoch 1:\", a.mean())\n",
        "    print(\"std dev for Epoch 1: \", a.std())\n",
        "    print(\"mean for Epoch 2:\", b.mean())\n",
        "    print(\"std dev for Epoch 2: \", b.std())\n",
        "    print(\"mean for Epoch 3\", c.mean())\n",
        "    print(\"std dev for Epoch 3: \", c.std())\n",
        "    print(\"\\n\")"
      ],
      "metadata": {
        "colab": {
          "base_uri": "https://localhost:8080/"
        },
        "id": "ZVrhjnEDbn1V",
        "outputId": "447f906c-b6b2-47cc-a80b-9a07d1261dff"
      },
      "execution_count": 24,
      "outputs": [
        {
          "output_type": "stream",
          "name": "stdout",
          "text": [
            "Uniform Negative Sampling\n",
            "mean for Epoch 1: 42.51664739048569\n",
            "std dev for Epoch 1:  3.101301054223069\n",
            "mean for Epoch 2: 10.209421782388597\n",
            "std dev for Epoch 2:  1.8193837567864948\n",
            "mean for Epoch 3 3.238542839489427\n",
            "std dev for Epoch 3:  1.074905473402994\n",
            "\n",
            "\n",
            "Pseudo Type Negative Sampling\n",
            "mean for Epoch 1: 161.70239110017766\n",
            "std dev for Epoch 1:  7.2512031181264955\n",
            "mean for Epoch 2: 83.8646351313839\n",
            "std dev for Epoch 2:  3.049426875662222\n",
            "mean for Epoch 3 45.70791253334218\n",
            "std dev for Epoch 3:  2.9457851385347\n",
            "\n",
            "\n",
            "Good Negative Sampling\n",
            "mean for Epoch 1: 170.24271733661445\n",
            "std dev for Epoch 1:  7.4426270887194335\n",
            "mean for Epoch 2: 86.1006136321152\n",
            "std dev for Epoch 2:  2.801896966544915\n",
            "mean for Epoch 3 45.58436475448152\n",
            "std dev for Epoch 3:  2.407850963062981\n",
            "\n",
            "\n"
          ]
        }
      ]
    }
  ]
}