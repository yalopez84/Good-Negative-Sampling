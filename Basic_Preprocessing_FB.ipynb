{
  "cells": [
    {
      "cell_type": "markdown",
      "metadata": {
        "id": "view-in-github",
        "colab_type": "text"
      },
      "source": [
        "<a href=\"https://colab.research.google.com/github/yalopez84/Goog-Negative-Sampling/blob/master/Basic_Preprocessing_FB.ipynb\" target=\"_parent\"><img src=\"https://colab.research.google.com/assets/colab-badge.svg\" alt=\"Open In Colab\"/></a>"
      ]
    },
    {
      "cell_type": "markdown",
      "source": [
        "**Basic Form Preprocessing**\n",
        "\n",
        "Basic Form Preprocessing means to transform any KG dataset to the Basic Form for kg completion algorithms. Basic Form was drawn from KG-BERT and extended with the relation_domain_range.tsv file. This file contains the relation domain and range used by the Good Negative Sampling generation strategy. Basic Form files are:\n",
        "\n",
        "1.   train.tsv\n",
        "2.   dev.tsv\n",
        "3.   test.tsv\n",
        "4.   entities.tsv\n",
        "5.   relations.tsv\n",
        "6.   entity2text.tsv\n",
        "7.   relation2text.tsv\n",
        "8.   relation_dom_ran.tsv\n"
      ],
      "metadata": {
        "id": "mo976fSWCZIy"
      }
    },
    {
      "cell_type": "code",
      "source": [
        "import os\n",
        "from tqdm import tqdm, trange\n",
        "import csv"
      ],
      "metadata": {
        "id": "LalWgc8EI4OJ"
      },
      "execution_count": 9,
      "outputs": []
    },
    {
      "cell_type": "code",
      "execution_count": 10,
      "metadata": {
        "colab": {
          "base_uri": "https://localhost:8080/"
        },
        "id": "Z3Gw7Hoe-Wvg",
        "outputId": "adef1b9b-b0b8-420a-b56c-ae893d9ec0fa"
      },
      "outputs": [
        {
          "output_type": "stream",
          "name": "stdout",
          "text": [
            "Drive already mounted at /content/drive; to attempt to forcibly remount, call drive.mount(\"/content/drive\", force_remount=True).\n"
          ]
        }
      ],
      "source": [
        "from google.colab import drive\n",
        "drive.mount('/content/drive')"
      ]
    },
    {
      "cell_type": "code",
      "execution_count": 11,
      "metadata": {
        "id": "W5Vf_9OECj1W"
      },
      "outputs": [],
      "source": [
        "data_dir=\"/content/drive/MyDrive/NegativeStrategies/GoodNegativeSampling/FB13/\"\n",
        "os.chdir(data_dir)"
      ]
    },
    {
      "cell_type": "code",
      "source": [
        "class DataProcessor(object):\n",
        "    def get_train_examples(self, data_dir):\n",
        "        raise NotImplementedError()\n",
        "    @classmethod\n",
        "    def _read_tsv(cls, input_file, quotechar=None):\n",
        "        with open(input_file, \"r\", encoding=\"utf-8\") as f:\n",
        "            reader = csv.reader(f, delimiter=\"\\t\", quotechar=quotechar)\n",
        "            lines = []            \n",
        "            for line in reader:\n",
        "                lines.append(line)  \n",
        "            return lines  "
      ],
      "metadata": {
        "id": "NGiRblaxI0yf"
      },
      "execution_count": 12,
      "outputs": []
    },
    {
      "cell_type": "code",
      "source": [
        "class KGProcessor(DataProcessor):\n",
        "    def __init__(self):\n",
        "        self.labels = set()        \n",
        "    "
      ],
      "metadata": {
        "id": "GDOChOaLJ4I_"
      },
      "execution_count": null,
      "outputs": []
    },
    {
      "cell_type": "markdown",
      "source": [
        "**createFBReduced method** is for creating reduced files of train.tsv and test.tsv"
      ],
      "metadata": {
        "id": "5jp5bdNWHpaJ"
      }
    },
    {
      "cell_type": "code",
      "execution_count": 13,
      "metadata": {
        "id": "DfyY-l4kB5e3"
      },
      "outputs": [],
      "source": [
        "def createFBReduced(test_start,test_end,test_step,train_start,train_end,train_step):\n",
        "    #To reduce FB dataset \n",
        "    #train.tsv has 316219 triples, train_reduced.tsv has a subset of 11082 triples\n",
        "    #test.tsv has 47464, test_reduced.tsv has a sub set of 2253 triples  \n",
        "\n",
        "    processor = KGProcessor()\n",
        "    test_lines=processor._read_tsv(os.path.join(data_dir, \"test.tsv\"))\n",
        "    train_lines=processor._read_tsv(os.path.join(data_dir, \"train.tsv\")) \n",
        "\n",
        "    triples_train_reduced=processor._read_tsv(os.path.join(data_dir, \"train_reduced.tsv\"))\n",
        "    triples_test_reduced=processor._read_tsv(os.path.join(data_dir, \"test_reduced.tsv\"))\n",
        "    flag=False\n",
        "\n",
        "    for test_line in tqdm(test_lines[test_start:test_end:test_step]):\n",
        "        tests_str_set = set([' '.join(line) for line in triples_test_reduced])\n",
        "        flag=False\n",
        "        count=0\n",
        "        for train_line in train_lines[train_start:train_end:train_step]:\n",
        "            trains_str_set = set([' '.join(line) for line in triples_train_reduced])\n",
        "            if test_line[0] in train_line or test_line[1] in train_line or test_line[2] in train_line:\n",
        "                if ' '.join(train_line) not in trains_str_set:\n",
        "                    triples_train_reduced.append(train_line) \n",
        "                    flag=True\n",
        "                    count=count+1\n",
        "                    if count>=2:\n",
        "                        break\n",
        "        if flag==True:\n",
        "            if ' '.join(test_line) not in tests_str_set:\n",
        "                triples_test_reduced.append(test_line) \n",
        "\n",
        "    print(\"train_reduced\", len(triples_train_reduced),\"\\n\")\n",
        "    print(\"train_reduced\", triples_train_reduced,\"\\n\")\n",
        "\n",
        "    print(\"test_reduced\", len(triples_test_reduced),\"\\n\")\n",
        "    print(\"test_reduced\", triples_test_reduced,\"\\n\")\n",
        "\n",
        "    positivos=[triple for triple in triples_test_reduced if triple[3]==\"1\"]\n",
        "    negativos=[triple for triple in triples_test_reduced if triple[3]==\"-1\"]\n",
        "    print(\"positivos\", len(positivos),\"\\n\")\n",
        "    print(\"negativos\", len(negativos),\"\\n\")\n",
        "\n",
        "    with open(os.path.join(data_dir, \"train_reduced.tsv\"), \"w\") as writer:\n",
        "        for triple_ in triples_train_reduced:\n",
        "            writer.write('\\t'.join(triple_)+\"\\n\")\n",
        "\n",
        "    with open(os.path.join(data_dir, \"test_reduced.tsv\"), \"w\") as writer:\n",
        "        for triple_ in triples_test_reduced:\n",
        "            writer.write('\\t'.join(triple_)+\"\\n\")\n",
        "\n",
        "#createFBReduced(test_start=0,test_end=0,test_step=1,train_start=0,train_end=0,train_step=1)"
      ]
    }
  ],
  "metadata": {
    "colab": {
      "provenance": [],
      "authorship_tag": "ABX9TyPya0ijTTXetGxYRCJVhPbt",
      "include_colab_link": true
    },
    "gpuClass": "standard",
    "kernelspec": {
      "display_name": "Python 3",
      "name": "python3"
    },
    "language_info": {
      "name": "python"
    }
  },
  "nbformat": 4,
  "nbformat_minor": 0
}