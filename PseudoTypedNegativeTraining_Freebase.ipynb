{
  "nbformat": 4,
  "nbformat_minor": 0,
  "metadata": {
    "colab": {
      "provenance": [],
      "authorship_tag": "ABX9TyNvlgkF8pj+PVXdQGRz21Os",
      "include_colab_link": true
    },
    "kernelspec": {
      "name": "python3",
      "display_name": "Python 3"
    },
    "language_info": {
      "name": "python"
    },
    "accelerator": "GPU",
    "gpuClass": "standard"
  },
  "cells": [
    {
      "cell_type": "markdown",
      "metadata": {
        "id": "view-in-github",
        "colab_type": "text"
      },
      "source": [
        "<a href=\"https://colab.research.google.com/github/yalopez84/Goog-Negative-Sampling/blob/master/PseudoTypedNegativeTraining_Freebase.ipynb\" target=\"_parent\"><img src=\"https://colab.research.google.com/assets/colab-badge.svg\" alt=\"Open In Colab\"/></a>"
      ]
    },
    {
      "cell_type": "code",
      "execution_count": null,
      "metadata": {
        "id": "x9cSfhhwxhPP",
        "colab": {
          "base_uri": "https://localhost:8080/"
        },
        "outputId": "cfdfa82c-31ca-424c-8621-25800e7dbe5b"
      },
      "outputs": [
        {
          "output_type": "stream",
          "name": "stdout",
          "text": [
            "Looking in indexes: https://pypi.org/simple, https://us-python.pkg.dev/colab-wheels/public/simple/\n",
            "Requirement already satisfied: pytorch-pretrained-bert in /usr/local/lib/python3.9/dist-packages (0.6.2)\n",
            "Requirement already satisfied: torch>=0.4.1 in /usr/local/lib/python3.9/dist-packages (from pytorch-pretrained-bert) (1.13.1+cu116)\n",
            "Requirement already satisfied: requests in /usr/local/lib/python3.9/dist-packages (from pytorch-pretrained-bert) (2.27.1)\n",
            "Requirement already satisfied: boto3 in /usr/local/lib/python3.9/dist-packages (from pytorch-pretrained-bert) (1.26.94)\n",
            "Requirement already satisfied: tqdm in /usr/local/lib/python3.9/dist-packages (from pytorch-pretrained-bert) (4.65.0)\n",
            "Requirement already satisfied: regex in /usr/local/lib/python3.9/dist-packages (from pytorch-pretrained-bert) (2022.10.31)\n",
            "Requirement already satisfied: numpy in /usr/local/lib/python3.9/dist-packages (from pytorch-pretrained-bert) (1.22.4)\n",
            "Requirement already satisfied: typing-extensions in /usr/local/lib/python3.9/dist-packages (from torch>=0.4.1->pytorch-pretrained-bert) (4.5.0)\n",
            "Requirement already satisfied: s3transfer<0.7.0,>=0.6.0 in /usr/local/lib/python3.9/dist-packages (from boto3->pytorch-pretrained-bert) (0.6.0)\n",
            "Requirement already satisfied: jmespath<2.0.0,>=0.7.1 in /usr/local/lib/python3.9/dist-packages (from boto3->pytorch-pretrained-bert) (1.0.1)\n",
            "Requirement already satisfied: botocore<1.30.0,>=1.29.94 in /usr/local/lib/python3.9/dist-packages (from boto3->pytorch-pretrained-bert) (1.29.94)\n",
            "Requirement already satisfied: urllib3<1.27,>=1.21.1 in /usr/local/lib/python3.9/dist-packages (from requests->pytorch-pretrained-bert) (1.26.15)\n",
            "Requirement already satisfied: certifi>=2017.4.17 in /usr/local/lib/python3.9/dist-packages (from requests->pytorch-pretrained-bert) (2022.12.7)\n",
            "Requirement already satisfied: idna<4,>=2.5 in /usr/local/lib/python3.9/dist-packages (from requests->pytorch-pretrained-bert) (3.4)\n",
            "Requirement already satisfied: charset-normalizer~=2.0.0 in /usr/local/lib/python3.9/dist-packages (from requests->pytorch-pretrained-bert) (2.0.12)\n",
            "Requirement already satisfied: python-dateutil<3.0.0,>=2.1 in /usr/local/lib/python3.9/dist-packages (from botocore<1.30.0,>=1.29.94->boto3->pytorch-pretrained-bert) (2.8.2)\n",
            "Requirement already satisfied: six>=1.5 in /usr/local/lib/python3.9/dist-packages (from python-dateutil<3.0.0,>=2.1->botocore<1.30.0,>=1.29.94->boto3->pytorch-pretrained-bert) (1.15.0)\n"
          ]
        }
      ],
      "source": [
        "!pip install pytorch-pretrained-bert  "
      ]
    },
    {
      "cell_type": "code",
      "source": [
        "from pytorch_pretrained_bert.tokenization import BertTokenizer\n",
        "from pytorch_pretrained_bert.file_utils import PYTORCH_PRETRAINED_BERT_CACHE, WEIGHTS_NAME, CONFIG_NAME\n",
        "from pytorch_pretrained_bert.modeling import BertForSequenceClassification, BertConfig\n",
        "from pytorch_pretrained_bert.optimization import BertAdam, WarmupLinearSchedule\n",
        "import torch\n",
        "from torch.utils.data import (DataLoader, RandomSampler, SequentialSampler,\n",
        "                              TensorDataset)\n",
        "import os\n",
        "from shutil import rmtree\n",
        "import csv\n",
        "from tqdm import tqdm, trange\n",
        "from torch.nn import CrossEntropyLoss, MSELoss\n",
        "import random\n",
        "import numpy as np"
      ],
      "metadata": {
        "id": "XISrufKCzNtn"
      },
      "execution_count": null,
      "outputs": []
    },
    {
      "cell_type": "code",
      "source": [
        "from google.colab import drive\n",
        "drive.mount('/content/drive')\n",
        "data_dir=\"/content/drive/MyDrive/NegativeStrategies/GoodNegativeSampling/FB13/\"\n",
        "os.chdir(data_dir)"
      ],
      "metadata": {
        "colab": {
          "base_uri": "https://localhost:8080/"
        },
        "id": "Zbvr2lLWzSSr",
        "outputId": "374ad5e9-3b5e-42c7-a068-685a4b7ce76d"
      },
      "execution_count": null,
      "outputs": [
        {
          "output_type": "stream",
          "name": "stdout",
          "text": [
            "Drive already mounted at /content/drive; to attempt to forcibly remount, call drive.mount(\"/content/drive\", force_remount=True).\n"
          ]
        }
      ]
    },
    {
      "cell_type": "code",
      "source": [
        "class InputExample(object):\n",
        "\n",
        "    def __init__(self, guid, text_a, text_b=None, text_c=None, label=None):\n",
        "        self.guid = guid\n",
        "        self.text_a = text_a\n",
        "        self.text_b = text_b\n",
        "        self.text_c = text_c\n",
        "        self.label = label"
      ],
      "metadata": {
        "id": "6sXKn7MHzUui"
      },
      "execution_count": null,
      "outputs": []
    },
    {
      "cell_type": "code",
      "source": [
        "class InputFeatures(object):\n",
        "    \n",
        "    def __init__(self, input_ids, input_mask, segment_ids, label_id):\n",
        "        self.input_ids = input_ids\n",
        "        self.input_mask = input_mask\n",
        "        self.segment_ids = segment_ids\n",
        "        self.label_id = label_id  "
      ],
      "metadata": {
        "id": "e5_d8rv9zWjb"
      },
      "execution_count": null,
      "outputs": []
    },
    {
      "cell_type": "code",
      "source": [
        "class TrainingReport(object):\n",
        "    def __init__(self, epoch, loss):\n",
        "        self.epoch = epoch\n",
        "        self.loss = loss"
      ],
      "metadata": {
        "id": "5zECJRBzzYiu"
      },
      "execution_count": null,
      "outputs": []
    },
    {
      "cell_type": "code",
      "source": [
        "class DataProcessor(object):\n",
        "  \n",
        "    def get_train_examples(self, data_dir):\n",
        "        raise NotImplementedError()\n",
        "\n",
        "    def get_labels(self, data_dir):\n",
        "        raise NotImplementedError()\n",
        "\n",
        "    @classmethod\n",
        "    def _read_tsv(cls, input_file, quotechar=None):\n",
        "        with open(input_file, \"r\", encoding=\"utf-8\") as f:\n",
        "            reader = csv.reader(f, delimiter=\"\\t\", quotechar=quotechar)\n",
        "            lines = []\n",
        "            for line in reader:\n",
        "                lines.append(line)\n",
        "            return lines    "
      ],
      "metadata": {
        "id": "8yB8WAkszb9B"
      },
      "execution_count": null,
      "outputs": []
    },
    {
      "cell_type": "code",
      "source": [
        "class KGProcessor(DataProcessor):\n",
        "    def __init__(self):\n",
        "        self.labels = set()\n",
        "    \n",
        "    def get_train_examples(self, data_dir):\n",
        "        return self._create_examples(\n",
        "            self._read_tsv(os.path.join(data_dir, \"train_reduced_11082_neg_and_descrip_seudotyped.tsv\")), \"train\", data_dir)\n",
        "\n",
        "    def get_relations(self, data_dir):\n",
        "        with open(os.path.join(data_dir, \"relations.txt\"), 'r') as f:\n",
        "            lines = f.readlines()\n",
        "            relations = []\n",
        "            for line in lines:\n",
        "                relations.append(line.strip())\n",
        "        return relations\n",
        "\n",
        "    def get_labels(self, data_dir):\n",
        "        return [\"0\", \"1\"]\n",
        "\n",
        "    def get_entities(self, data_dir):\n",
        "        with open(os.path.join(data_dir, \"entities.txt\"), 'r') as f:\n",
        "            lines = f.readlines()\n",
        "            entities = []\n",
        "            for line in lines:\n",
        "                entities.append(line.strip())\n",
        "        return entities\n",
        "\n",
        "    def _create_examples(self, lines, set_type, data_dir):\n",
        "        examples=[]        \n",
        "        for (i, line) in enumerate(lines):\n",
        "            examples.append(InputExample(guid=line[0], text_a=line[1], text_b=line[2], text_c = line[3], label=line[4]))   \n",
        "\n",
        "        return examples"
      ],
      "metadata": {
        "id": "4nx_sqVJzec5"
      },
      "execution_count": null,
      "outputs": []
    },
    {
      "cell_type": "code",
      "source": [
        "def convert_examples_to_features(examples, label_list, max_seq_length, tokenizer, print_info = True):\n",
        "    \n",
        "    label_map = {label : i for i, label in enumerate(label_list)}\n",
        "\n",
        "    features = []\n",
        "\n",
        "    for (ex_index, example) in enumerate(examples):\n",
        "        \n",
        "        tokens_a = tokenizer.tokenize(example.text_a)\n",
        "        tokens_b = None\n",
        "        tokens_c = None\n",
        "\n",
        "        if example.text_b and example.text_c:\n",
        "            tokens_b = tokenizer.tokenize(example.text_b)\n",
        "            tokens_c = tokenizer.tokenize(example.text_c)\n",
        "            _truncate_seq_triple(tokens_a, tokens_b, tokens_c, max_seq_length - 4)\n",
        "        else:\n",
        "            if len(tokens_a) > max_seq_length - 2:\n",
        "                tokens_a = tokens_a[:(max_seq_length - 2)]\n",
        "        tokens = [\"[CLS]\"] + tokens_a + [\"[SEP]\"]\n",
        "        segment_ids = [0] * len(tokens)\n",
        "\n",
        "        if tokens_b:\n",
        "            tokens += tokens_b + [\"[SEP]\"]\n",
        "            segment_ids += [1] * (len(tokens_b) + 1)\n",
        "        if tokens_c:\n",
        "            tokens += tokens_c + [\"[SEP]\"]\n",
        "            segment_ids += [0] * (len(tokens_c) + 1)        \n",
        "\n",
        "        input_ids = tokenizer.convert_tokens_to_ids(tokens)\n",
        "\n",
        "        input_mask = [1] * len(input_ids)\n",
        "\n",
        "        padding = [0] * (max_seq_length - len(input_ids))\n",
        "        input_ids += padding\n",
        "        input_mask += padding\n",
        "        segment_ids += padding\n",
        "\n",
        "        assert len(input_ids) == max_seq_length\n",
        "        assert len(input_mask) == max_seq_length\n",
        "        assert len(segment_ids) == max_seq_length\n",
        "\n",
        "        label_id = label_map[example.label]\n",
        "\n",
        "        features.append(\n",
        "                InputFeatures(input_ids=input_ids,\n",
        "                              input_mask=input_mask,\n",
        "                              segment_ids=segment_ids,\n",
        "                              label_id=label_id))\n",
        "    return features"
      ],
      "metadata": {
        "id": "ScdDLW1LzhMf"
      },
      "execution_count": null,
      "outputs": []
    },
    {
      "cell_type": "code",
      "source": [
        "def _truncate_seq_triple(tokens_a, tokens_b, tokens_c, max_length):\n",
        "    while True:\n",
        "        total_length = len(tokens_a) + len(tokens_b) + len(tokens_c)\n",
        "        if total_length <= max_length:\n",
        "            break\n",
        "        if len(tokens_a) > len(tokens_b) and len(tokens_a) > len(tokens_c):\n",
        "            tokens_a.pop()\n",
        "        elif len(tokens_b) > len(tokens_a) and len(tokens_b) > len(tokens_c):\n",
        "            tokens_b.pop()\n",
        "        elif len(tokens_c) > len(tokens_a) and len(tokens_c) > len(tokens_b):\n",
        "            tokens_c.pop()\n",
        "        else:\n",
        "            tokens_c.pop()"
      ],
      "metadata": {
        "id": "xjUoqs9szjnD"
      },
      "execution_count": null,
      "outputs": []
    },
    {
      "cell_type": "code",
      "source": [
        "def main(numExecution):\n",
        "    arg_dict ={\n",
        "        \"data_dir\": data_dir,\n",
        "        \"bert_model\": \"bert-base-cased\",\n",
        "        \"max_seq_length\": 200,\n",
        "        \"train_batch_size\": 32,\n",
        "        \"eval_batch_size\": 512,\n",
        "        \"learning_rate\": 5e-5,\n",
        "        \"num_train_epochs\": 3.0,\n",
        "        \"output_dir\": \"./output_FB13_\",               \n",
        "        \"gradient_accumulation_steps\": 1,\n",
        "        \"seed\":42,\n",
        "        \"do_lower_case\":False,\n",
        "        \"loss_scale\":0,\n",
        "        \"warmup_proportion\":0.1\n",
        "        }\n",
        "    dirFolder=arg_dict[\"output_dir\"]+str(numExecution)\n",
        "    if os.path.exists(dirFolder):\n",
        "        rmtree(dirFolder)\n",
        "        os.makedirs(dirFolder)\n",
        "    else:\n",
        "        os.makedirs(dirFolder)\n",
        "\n",
        "    n_gpu=0\n",
        "    device = (torch.device('cuda') if torch.cuda.is_available() else torch.device('cpu'))\n",
        "    print(\"Device\",device)\n",
        "    if str(device)==\"cuda\":\n",
        "        n_gpu=1\n",
        "    arg_dict[\"seed\"] = random.randint(1, 200)\n",
        "    random.seed(arg_dict[\"seed\"])\n",
        "    np.random.seed(arg_dict[\"seed\"])\n",
        "    torch.manual_seed(arg_dict[\"seed\"])\n",
        "\n",
        "    if n_gpu > 0:\n",
        "        torch.cuda.manual_seed_all(arg_dict[\"seed\"])\n",
        "\n",
        "    processor = KGProcessor()\n",
        "\n",
        "    label_list = processor.get_labels(arg_dict[\"data_dir\"])\n",
        "    num_labels=len(label_list)\n",
        "\n",
        "    entity_list = processor.get_entities(arg_dict[\"data_dir\"])   \n",
        "\n",
        "    relation_list = processor.get_relations(arg_dict[\"data_dir\"])   \n",
        "\n",
        "    tokenizer = BertTokenizer.from_pretrained(arg_dict[\"bert_model\"], do_lower_case=arg_dict[\"do_lower_case\"])\n",
        "\n",
        "    train_examples = None\n",
        "    num_train_optimization_steps = 0\n",
        "\n",
        "    train_examples = processor.get_train_examples(arg_dict[\"data_dir\"])\n",
        "\n",
        "    num_train_optimization_steps = int(len(train_examples) / arg_dict[\"train_batch_size\"] / arg_dict[\"gradient_accumulation_steps\"]) * arg_dict[\"num_train_epochs\"]\n",
        "\n",
        "    model = BertForSequenceClassification.from_pretrained(arg_dict[\"bert_model\"],\n",
        "              num_labels=num_labels)\n",
        "    \n",
        "    model.to(device)\n",
        "\n",
        "    param_optimizer = list(model.named_parameters()) \n",
        "\n",
        "    no_decay = ['bias', 'LayerNorm.bias', 'LayerNorm.weight']\n",
        "    optimizer_grouped_parameters = [\n",
        "        {'params': [p for n, p in param_optimizer if not any(nd in n for nd in no_decay)], 'weight_decay': 0.01},\n",
        "        {'params': [p for n, p in param_optimizer if any(nd in n for nd in no_decay)], 'weight_decay': 0.0}\n",
        "        ]\n",
        "    optimizer = BertAdam(optimizer_grouped_parameters,\n",
        "                         lr=arg_dict[\"learning_rate\"],\n",
        "                         warmup=arg_dict[\"warmup_proportion\"],\n",
        "                         t_total=num_train_optimization_steps)\n",
        "    \n",
        "    global_step = 0\n",
        "    nb_tr_steps = 0\n",
        "    tr_loss = 0\n",
        "\n",
        "    train_features = convert_examples_to_features(\n",
        "            train_examples, label_list, arg_dict[\"max_seq_length\"], tokenizer)    \n",
        "    print(\"len(train_features)\",len(train_features))\n",
        "\n",
        "    all_input_ids = torch.tensor([f.input_ids for f in train_features], dtype=torch.long)\n",
        "    all_input_mask = torch.tensor([f.input_mask for f in train_features], dtype=torch.long)\n",
        "    all_segment_ids = torch.tensor([f.segment_ids for f in train_features], dtype=torch.long)\n",
        "    all_label_ids = torch.tensor([f.label_id for f in train_features], dtype=torch.long)\n",
        "\n",
        "    train_data = TensorDataset(all_input_ids, all_input_mask, all_segment_ids, all_label_ids)\n",
        "    train_sampler = RandomSampler(train_data)\n",
        "\n",
        "    train_dataloader = DataLoader(train_data, sampler=train_sampler, batch_size=arg_dict[\"train_batch_size\"])\n",
        "\n",
        "    model.train()\n",
        "\n",
        "    trainingReports=[]\n",
        "    \n",
        "    for epoch in trange(int(arg_dict[\"num_train_epochs\"]), desc=\"Epoch\"):\n",
        "        tr_loss = 0\n",
        "        nb_tr_examples, nb_tr_steps = 0, 0\n",
        "        for step, batch in enumerate(tqdm(train_dataloader, desc=\"Iteration\")):\n",
        "            batch = tuple(t.to(device) for t in batch)\n",
        "            input_ids, input_mask, segment_ids, label_ids = batch\n",
        "\n",
        "            logits = model(input_ids, segment_ids, input_mask, labels=None)\n",
        "\n",
        "\n",
        "            loss_fct = CrossEntropyLoss()\n",
        "            loss = loss_fct(logits, label_ids)\n",
        "\n",
        "            loss.backward()\n",
        "\n",
        "            tr_loss += loss.item()\n",
        "            nb_tr_examples += input_ids.size(0)\n",
        "            nb_tr_steps += 1\n",
        "            optimizer.step()\n",
        "            optimizer.zero_grad()\n",
        "            global_step += 1\n",
        "        print(\"Training loss in epoch %s es: %s\", epoch+1, tr_loss) \n",
        "        trainingReports.append(TrainingReport(epoch=epoch+1, loss=tr_loss))\n",
        "\n",
        "    trainingReport_file = os.path.join(arg_dict[\"data_dir\"], \"TrainingReport\"+str(numExecution)+\".txt\")\n",
        "    with open(trainingReport_file, \"w\") as writer:\n",
        "        for epoch in trainingReports:\n",
        "                writer.write(\"%s %s \\n\" % (epoch.epoch,epoch.loss)) \n",
        "\n",
        "\n",
        "    model_to_save = model\n",
        "    \n",
        "    output_model_file = os.path.join(dirFolder, WEIGHTS_NAME)\n",
        "    output_config_file = os.path.join(dirFolder, CONFIG_NAME)\n",
        "    torch.save(model_to_save.state_dict(), output_model_file)\n",
        "    model_to_save.config.to_json_file(output_config_file)\n",
        "    tokenizer.save_vocabulary(dirFolder)"
      ],
      "metadata": {
        "id": "vRhPIddTzoO8"
      },
      "execution_count": null,
      "outputs": []
    },
    {
      "cell_type": "code",
      "source": [
        "if __name__ == \"__main__\":\n",
        "    for i in range(1, 33):\n",
        "       main(i) \n",
        "       print(\"*******modelo********\",i)\n",
        "    print('fin')"
      ],
      "metadata": {
        "colab": {
          "base_uri": "https://localhost:8080/"
        },
        "id": "Krt65R41zq4S",
        "outputId": "273d40e8-9813-4ba7-d2fd-67d7d60070a4"
      },
      "execution_count": null,
      "outputs": [
        {
          "output_type": "stream",
          "name": "stdout",
          "text": [
            "probando\n",
            "probando\n",
            "probando\n",
            "probando\n",
            "probando\n",
            "probando\n",
            "probando\n",
            "probando\n",
            "probando\n",
            "probando\n",
            "probando\n",
            "probando\n",
            "probando\n",
            "probando\n",
            "fin\n"
          ]
        }
      ]
    }
  ]
}